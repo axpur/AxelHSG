{
 "cells": [
  {
   "cell_type": "markdown",
   "metadata": {},
   "source": [
    "# Schelling Segregation Model\n",
    "\n",
    "## Background\n",
    "\n",
    "The Schelling (1971) segregation model is a classic of agent-based modeling, demonstrating how agents following simple rules lead to the emergence of qualitatively different macro-level outcomes. Agents are randomly placed on a grid. There are two types of agents, one constituting the majority and the other the minority. All agents want a certain number (generally, 3) of their 8 surrounding neighbors to be of the same type in order for them to be happy. Unhappy agents will move to a random available grid space. While individual agents do not have a preference for a segregated outcome (e.g. they would be happy with 3 similar neighbors and 5 different ones), the aggregate outcome is nevertheless heavily segregated.\n",
    "\n",
    "## Implementation\n",
    "\n",
    "This is a demonstration of running a Mesa model in an IPython Notebook. The actual model and agent code are implemented in Schelling.py, in the same directory as this notebook. Below, we will import the model class, instantiate it, run it, and plot the time series of the number of happy agents."
   ]
  },
  {
   "cell_type": "code",
   "execution_count": 1,
   "metadata": {},
   "outputs": [],
   "source": [
    "import matplotlib.pyplot as plt\n",
    "import pandas as pd\n",
    "import numpy as np\n",
    "%matplotlib inline\n",
    "\n",
    "from model import SchellingModel\n",
    "from model2 import SchellingModel_vote"
   ]
  },
  {
   "cell_type": "markdown",
   "metadata": {},
   "source": [
    "Now we instantiate a model instance: a 10x10 grid, with an 80% change of an agent being placed in each cell, approximately 20% of agents set as minorities, and agents wanting at least 3 similar neighbors."
   ]
  },
  {
   "cell_type": "code",
   "execution_count": 2,
   "metadata": {},
   "outputs": [
    {
     "name": "stdout",
     "output_type": "stream",
     "text": [
      "[51, 42, 45, 41, 40, 37, 49, 35, 37]\n",
      "[51, 50, 40, 53, 46, 38, 33, 45, 34]\n",
      "[102, 92, 85, 94, 86, 75, 82, 80, 71]\n",
      "377\n",
      "390\n"
     ]
    }
   ],
   "source": [
    "model = SchellingModel(33, 33, 0.7, 0.5, 5)\n",
    "model2 = SchellingModel_vote(33, 33, 0.7, 0.5, 5)\n",
    "\n",
    "print(model2.elections_type0)\n",
    "print(model2.elections_type1)\n",
    "print(model2.elections_type_total)\n",
    "print(model2.type0)\n",
    "print(model2.type1)"
   ]
  },
  {
   "cell_type": "markdown",
   "metadata": {},
   "source": [
    "We want to run the model until all the agents are happy with where they are. However, there's no guarentee that a given model instantiation will *ever* settle down. So let's run it for either 100 steps or until it stops on its own, whichever comes first:"
   ]
  },
  {
   "cell_type": "code",
   "execution_count": 3,
   "metadata": {},
   "outputs": [
    {
     "name": "stdout",
     "output_type": "stream",
     "text": [
      "100\n",
      "100\n"
     ]
    }
   ],
   "source": [
    "while model.running and model.schedule.steps < 100:\n",
    "    model.step()\n",
    "print(model.schedule.steps) # Show how many steps have actually run\n",
    "\n",
    "while model2.running and model2.schedule.steps <100:\n",
    "    model2.step()\n",
    "print(model2.schedule.steps)"
   ]
  },
  {
   "cell_type": "markdown",
   "metadata": {},
   "source": [
    "The model has a DataCollector object, which checks and stores how many agents are happy at the end of each step. It can also generate a pandas DataFrame of the data it has collected:"
   ]
  },
  {
   "cell_type": "code",
   "execution_count": 4,
   "metadata": {},
   "outputs": [],
   "source": [
    "model_out = model.datacollector.get_model_vars_dataframe()\n",
    "model_out2 = model2.datacollector.get_model_vars_dataframe()"
   ]
  },
  {
   "cell_type": "code",
   "execution_count": null,
   "metadata": {},
   "outputs": [],
   "source": [
    "len(model_out2.index)\n",
    "model_out2.iloc[0][1]\n",
    "model_out2 = model_out2.assign(pi_m0=pd.Series(np.random.randn(len(model_out2.index))).values,\n",
    "                               pi_m1=pd.Series(np.random.randn(len(model_out2.index))).values,\n",
    "                               pi_j0=model_out2.location_0,\n",
    "                               pi_j1=model_out2.location_0,\n",
    "                               pi_jm0=pd.Series(np.random.randn(len(model_out2.index))).values,\n",
    "                               pi_jm1=pd.Series(np.random.randn(len(model_out2.index))).values,\n",
    "                               big_i=pd.Series(np.random.randn(len(model_out2.index))).values,\n",
    "                               big_e=pd.Series(np.random.randn(len(model_out2.index))).values)"
   ]
  },
  {
   "cell_type": "code",
   "execution_count": 9,
   "metadata": {},
   "outputs": [
    {
     "ename": "AttributeError",
     "evalue": "module 'numpy' has no attribute 'range'",
     "output_type": "error",
     "traceback": [
      "\u001b[1;31m---------------------------------------------------------------------------\u001b[0m",
      "\u001b[1;31mAttributeError\u001b[0m                            Traceback (most recent call last)",
      "\u001b[1;32m<ipython-input-9-afef46b2b6ff>\u001b[0m in \u001b[0;36m<module>\u001b[1;34m()\u001b[0m\n\u001b[1;32m----> 1\u001b[1;33m \u001b[0mz\u001b[0m \u001b[1;33m=\u001b[0m \u001b[0mnp\u001b[0m\u001b[1;33m.\u001b[0m\u001b[0mrange\u001b[0m\u001b[1;33m(\u001b[0m\u001b[1;36m0\u001b[0m\u001b[1;33m,\u001b[0m \u001b[1;36m9\u001b[0m\u001b[1;33m)\u001b[0m\u001b[1;33m\u001b[0m\u001b[0m\n\u001b[0m\u001b[0;32m      2\u001b[0m \u001b[0mprint\u001b[0m\u001b[1;33m(\u001b[0m\u001b[0mz\u001b[0m\u001b[1;33m)\u001b[0m\u001b[1;33m\u001b[0m\u001b[0m\n",
      "\u001b[1;31mAttributeError\u001b[0m: module 'numpy' has no attribute 'range'"
     ]
    }
   ],
   "source": []
  },
  {
   "cell_type": "code",
   "execution_count": 5,
   "metadata": {},
   "outputs": [
    {
     "data": {
      "text/html": [
       "<div>\n",
       "<style scoped>\n",
       "    .dataframe tbody tr th:only-of-type {\n",
       "        vertical-align: middle;\n",
       "    }\n",
       "\n",
       "    .dataframe tbody tr th {\n",
       "        vertical-align: top;\n",
       "    }\n",
       "\n",
       "    .dataframe thead th {\n",
       "        text-align: right;\n",
       "    }\n",
       "</style>\n",
       "<table border=\"1\" class=\"dataframe\">\n",
       "  <thead>\n",
       "    <tr style=\"text-align: right;\">\n",
       "      <th></th>\n",
       "      <th>elections</th>\n",
       "      <th>happy</th>\n",
       "      <th>location_0</th>\n",
       "      <th>location_1</th>\n",
       "      <th>location_total</th>\n",
       "      <th>total_0</th>\n",
       "      <th>total_1</th>\n",
       "    </tr>\n",
       "  </thead>\n",
       "  <tbody>\n",
       "    <tr>\n",
       "      <th>0</th>\n",
       "      <td>[0, 1, 1, 1, 0, 1, 1, 0, 1]</td>\n",
       "      <td>218</td>\n",
       "      <td>[68, 41, 42, 49, 39, 36, 35, 40, 27]</td>\n",
       "      <td>[43, 49, 43, 50, 38, 44, 45, 35, 43]</td>\n",
       "      <td>[111, 90, 85, 99, 77, 80, 80, 75, 70]</td>\n",
       "      <td>377</td>\n",
       "      <td>390</td>\n",
       "    </tr>\n",
       "    <tr>\n",
       "      <th>1</th>\n",
       "      <td>[0, 1, 1, 1, 0, 1, 0, 0, 1]</td>\n",
       "      <td>296</td>\n",
       "      <td>[70, 32, 35, 45, 60, 24, 43, 43, 25]</td>\n",
       "      <td>[31, 61, 48, 51, 25, 48, 40, 40, 46]</td>\n",
       "      <td>[101, 93, 83, 96, 85, 72, 83, 83, 71]</td>\n",
       "      <td>377</td>\n",
       "      <td>390</td>\n",
       "    </tr>\n",
       "    <tr>\n",
       "      <th>2</th>\n",
       "      <td>[0, 1, 1, 1, 0, 1, 0, 0, 1]</td>\n",
       "      <td>374</td>\n",
       "      <td>[83, 29, 24, 35, 64, 20, 55, 45, 22]</td>\n",
       "      <td>[25, 60, 66, 53, 30, 64, 25, 26, 41]</td>\n",
       "      <td>[108, 89, 90, 88, 94, 84, 80, 71, 63]</td>\n",
       "      <td>377</td>\n",
       "      <td>390</td>\n",
       "    </tr>\n",
       "    <tr>\n",
       "      <th>3</th>\n",
       "      <td>[0, 1, 1, 1, 0, 1, 0, 0, 1]</td>\n",
       "      <td>435</td>\n",
       "      <td>[87, 22, 27, 32, 65, 17, 51, 53, 23]</td>\n",
       "      <td>[21, 70, 63, 49, 28, 69, 25, 21, 44]</td>\n",
       "      <td>[108, 92, 90, 81, 93, 86, 76, 74, 67]</td>\n",
       "      <td>377</td>\n",
       "      <td>390</td>\n",
       "    </tr>\n",
       "    <tr>\n",
       "      <th>4</th>\n",
       "      <td>[0, 1, 1, 1, 0, 1, 0, 0, 1]</td>\n",
       "      <td>479</td>\n",
       "      <td>[93, 19, 25, 25, 73, 5, 63, 61, 13]</td>\n",
       "      <td>[20, 77, 72, 50, 20, 70, 16, 15, 50]</td>\n",
       "      <td>[113, 96, 97, 75, 93, 75, 79, 76, 63]</td>\n",
       "      <td>377</td>\n",
       "      <td>390</td>\n",
       "    </tr>\n",
       "  </tbody>\n",
       "</table>\n",
       "</div>"
      ],
      "text/plain": [
       "                     elections  happy                            location_0  \\\n",
       "0  [0, 1, 1, 1, 0, 1, 1, 0, 1]    218  [68, 41, 42, 49, 39, 36, 35, 40, 27]   \n",
       "1  [0, 1, 1, 1, 0, 1, 0, 0, 1]    296  [70, 32, 35, 45, 60, 24, 43, 43, 25]   \n",
       "2  [0, 1, 1, 1, 0, 1, 0, 0, 1]    374  [83, 29, 24, 35, 64, 20, 55, 45, 22]   \n",
       "3  [0, 1, 1, 1, 0, 1, 0, 0, 1]    435  [87, 22, 27, 32, 65, 17, 51, 53, 23]   \n",
       "4  [0, 1, 1, 1, 0, 1, 0, 0, 1]    479   [93, 19, 25, 25, 73, 5, 63, 61, 13]   \n",
       "\n",
       "                             location_1  \\\n",
       "0  [43, 49, 43, 50, 38, 44, 45, 35, 43]   \n",
       "1  [31, 61, 48, 51, 25, 48, 40, 40, 46]   \n",
       "2  [25, 60, 66, 53, 30, 64, 25, 26, 41]   \n",
       "3  [21, 70, 63, 49, 28, 69, 25, 21, 44]   \n",
       "4  [20, 77, 72, 50, 20, 70, 16, 15, 50]   \n",
       "\n",
       "                          location_total  total_0  total_1  \n",
       "0  [111, 90, 85, 99, 77, 80, 80, 75, 70]      377      390  \n",
       "1  [101, 93, 83, 96, 85, 72, 83, 83, 71]      377      390  \n",
       "2  [108, 89, 90, 88, 94, 84, 80, 71, 63]      377      390  \n",
       "3  [108, 92, 90, 81, 93, 86, 76, 74, 67]      377      390  \n",
       "4  [113, 96, 97, 75, 93, 75, 79, 76, 63]      377      390  "
      ]
     },
     "execution_count": 5,
     "metadata": {},
     "output_type": "execute_result"
    }
   ],
   "source": [
    "model_out2.head()"
   ]
  },
  {
   "cell_type": "code",
   "execution_count": 7,
   "metadata": {},
   "outputs": [
    {
     "name": "stdout",
     "output_type": "stream",
     "text": [
      "0.94025974026\n",
      "362\n",
      "368\n",
      "0.942857142857\n",
      "363\n",
      "359\n",
      "0.950649350649\n",
      "366\n",
      "353\n",
      "0.987012987013\n",
      "380\n",
      "357\n",
      "0.984415584416\n",
      "379\n",
      "355\n",
      "0.953246753247\n",
      "367\n",
      "355\n",
      "0.968831168831\n",
      "373\n",
      "358\n",
      "0.974025974026\n",
      "375\n",
      "352\n",
      "0.968831168831\n",
      "373\n",
      "353\n",
      "0.963636363636\n",
      "371\n",
      "351\n",
      "0.966233766234\n",
      "372\n",
      "354\n",
      "0.966233766234\n",
      "372\n",
      "360\n",
      "0.976623376623\n",
      "376\n",
      "357\n",
      "0.974025974026\n",
      "375\n",
      "352\n",
      "0.971428571429\n",
      "374\n",
      "353\n",
      "0.971428571429\n",
      "374\n",
      "355\n",
      "0.976623376623\n",
      "376\n",
      "353\n",
      "0.976623376623\n",
      "376\n",
      "361\n",
      "0.976623376623\n",
      "376\n",
      "355\n",
      "0.979220779221\n",
      "377\n",
      "358\n",
      "0.971428571429\n",
      "374\n",
      "360\n",
      "0.987012987013\n",
      "380\n",
      "361\n",
      "0.979220779221\n",
      "377\n",
      "358\n",
      "0.981818181818\n",
      "378\n",
      "361\n",
      "0.981818181818\n",
      "378\n",
      "365\n",
      "0.971428571429\n",
      "374\n",
      "362\n",
      "0.971428571429\n",
      "374\n",
      "361\n",
      "0.971428571429\n",
      "374\n",
      "364\n",
      "0.974025974026\n",
      "375\n",
      "366\n",
      "0.968831168831\n",
      "373\n",
      "363\n",
      "0.976623376623\n",
      "376\n",
      "365\n",
      "0.974025974026\n",
      "375\n",
      "367\n",
      "0.976623376623\n",
      "376\n",
      "367\n",
      "0.974025974026\n",
      "375\n",
      "366\n",
      "0.974025974026\n",
      "375\n",
      "365\n",
      "0.974025974026\n",
      "375\n",
      "366\n",
      "0.974025974026\n",
      "375\n",
      "365\n",
      "0.974025974026\n",
      "375\n",
      "365\n",
      "0.976623376623\n",
      "376\n",
      "365\n",
      "0.974025974026\n",
      "375\n",
      "364\n",
      "0.976623376623\n",
      "376\n",
      "366\n",
      "0.976623376623\n",
      "376\n",
      "366\n",
      "0.976623376623\n",
      "376\n",
      "366\n",
      "0.974025974026\n",
      "375\n",
      "367\n",
      "0.976623376623\n",
      "376\n",
      "366\n",
      "0.979220779221\n",
      "377\n",
      "365\n",
      "0.976623376623\n",
      "376\n",
      "366\n",
      "0.974025974026\n",
      "375\n",
      "366\n",
      "0.974025974026\n",
      "375\n",
      "366\n",
      "0.976623376623\n",
      "376\n",
      "366\n",
      "0.976623376623\n",
      "376\n",
      "366\n",
      "0.974025974026\n",
      "375\n",
      "366\n",
      "0.976623376623\n",
      "376\n",
      "366\n"
     ]
    },
    {
     "data": {
      "text/html": [
       "<div>\n",
       "<style scoped>\n",
       "    .dataframe tbody tr th:only-of-type {\n",
       "        vertical-align: middle;\n",
       "    }\n",
       "\n",
       "    .dataframe tbody tr th {\n",
       "        vertical-align: top;\n",
       "    }\n",
       "\n",
       "    .dataframe thead th {\n",
       "        text-align: right;\n",
       "    }\n",
       "</style>\n",
       "<table border=\"1\" class=\"dataframe\">\n",
       "  <thead>\n",
       "    <tr style=\"text-align: right;\">\n",
       "      <th></th>\n",
       "      <th>happy</th>\n",
       "      <th>location_0</th>\n",
       "      <th>location_1</th>\n",
       "      <th>location_total</th>\n",
       "      <th>total_0</th>\n",
       "      <th>total_1</th>\n",
       "      <th>pi_m0</th>\n",
       "      <th>pi_m1</th>\n",
       "      <th>pi_j0</th>\n",
       "      <th>pi_j1</th>\n",
       "      <th>pi_jm0</th>\n",
       "      <th>pi_jm1</th>\n",
       "      <th>big_i</th>\n",
       "      <th>big_e</th>\n",
       "    </tr>\n",
       "  </thead>\n",
       "  <tbody>\n",
       "    <tr>\n",
       "      <th>0</th>\n",
       "      <td>215</td>\n",
       "      <td>[33, 50, 44, 32, 34, 46, 36, 45, 42]</td>\n",
       "      <td>[43, 37, 38, 46, 40, 37, 48, 39, 40]</td>\n",
       "      <td>[76, 87, 82, 78, 74, 83, 84, 84, 82]</td>\n",
       "      <td>385</td>\n",
       "      <td>389</td>\n",
       "      <td>0.497416</td>\n",
       "      <td>0.502584</td>\n",
       "      <td>[0.0857142857143, 0.12987012987, 0.11428571428...</td>\n",
       "      <td>[33, 50, 44, 32, 34, 46, 36, 45, 42]</td>\n",
       "      <td>1.878054</td>\n",
       "      <td>0.134422</td>\n",
       "      <td>0.850978</td>\n",
       "      <td>-1.572580</td>\n",
       "    </tr>\n",
       "    <tr>\n",
       "      <th>1</th>\n",
       "      <td>352</td>\n",
       "      <td>[34, 38, 40, 35, 27, 48, 36, 53, 52]</td>\n",
       "      <td>[50, 44, 35, 47, 42, 33, 48, 26, 34]</td>\n",
       "      <td>[84, 82, 75, 82, 69, 81, 84, 79, 86]</td>\n",
       "      <td>385</td>\n",
       "      <td>389</td>\n",
       "      <td>0.497416</td>\n",
       "      <td>0.502584</td>\n",
       "      <td>[0.0883116883117, 0.0987012987013, 0.103896103...</td>\n",
       "      <td>[34, 38, 40, 35, 27, 48, 36, 53, 52]</td>\n",
       "      <td>2.260996</td>\n",
       "      <td>1.752292</td>\n",
       "      <td>0.516709</td>\n",
       "      <td>1.652277</td>\n",
       "    </tr>\n",
       "    <tr>\n",
       "      <th>2</th>\n",
       "      <td>411</td>\n",
       "      <td>[27, 34, 34, 32, 27, 50, 45, 61, 56]</td>\n",
       "      <td>[45, 40, 39, 47, 52, 36, 33, 28, 33]</td>\n",
       "      <td>[72, 74, 73, 79, 79, 86, 78, 89, 89]</td>\n",
       "      <td>385</td>\n",
       "      <td>389</td>\n",
       "      <td>0.497416</td>\n",
       "      <td>0.502584</td>\n",
       "      <td>[0.0701298701299, 0.0883116883117, 0.088311688...</td>\n",
       "      <td>[27, 34, 34, 32, 27, 50, 45, 61, 56]</td>\n",
       "      <td>-0.393045</td>\n",
       "      <td>-0.155618</td>\n",
       "      <td>1.109129</td>\n",
       "      <td>0.276450</td>\n",
       "    </tr>\n",
       "    <tr>\n",
       "      <th>3</th>\n",
       "      <td>480</td>\n",
       "      <td>[32, 30, 53, 28, 14, 56, 44, 65, 58]</td>\n",
       "      <td>[49, 48, 33, 57, 77, 19, 30, 22, 22]</td>\n",
       "      <td>[81, 78, 86, 85, 91, 75, 74, 87, 80]</td>\n",
       "      <td>385</td>\n",
       "      <td>389</td>\n",
       "      <td>0.497416</td>\n",
       "      <td>0.502584</td>\n",
       "      <td>[0.0831168831169, 0.0779220779221, 0.137662337...</td>\n",
       "      <td>[32, 30, 53, 28, 14, 56, 44, 65, 58]</td>\n",
       "      <td>0.714567</td>\n",
       "      <td>1.807949</td>\n",
       "      <td>2.121618</td>\n",
       "      <td>0.098567</td>\n",
       "    </tr>\n",
       "    <tr>\n",
       "      <th>4</th>\n",
       "      <td>530</td>\n",
       "      <td>[29, 19, 57, 15, 11, 62, 49, 71, 66]</td>\n",
       "      <td>[50, 54, 25, 59, 81, 21, 29, 15, 21]</td>\n",
       "      <td>[79, 73, 82, 74, 92, 83, 78, 86, 87]</td>\n",
       "      <td>385</td>\n",
       "      <td>389</td>\n",
       "      <td>0.497416</td>\n",
       "      <td>0.502584</td>\n",
       "      <td>[0.0753246753247, 0.0493506493506, 0.148051948...</td>\n",
       "      <td>[29, 19, 57, 15, 11, 62, 49, 71, 66]</td>\n",
       "      <td>1.402368</td>\n",
       "      <td>-0.218765</td>\n",
       "      <td>-1.589850</td>\n",
       "      <td>-0.284925</td>\n",
       "    </tr>\n",
       "  </tbody>\n",
       "</table>\n",
       "</div>"
      ],
      "text/plain": [
       "   happy                            location_0  \\\n",
       "0    215  [33, 50, 44, 32, 34, 46, 36, 45, 42]   \n",
       "1    352  [34, 38, 40, 35, 27, 48, 36, 53, 52]   \n",
       "2    411  [27, 34, 34, 32, 27, 50, 45, 61, 56]   \n",
       "3    480  [32, 30, 53, 28, 14, 56, 44, 65, 58]   \n",
       "4    530  [29, 19, 57, 15, 11, 62, 49, 71, 66]   \n",
       "\n",
       "                             location_1                        location_total  \\\n",
       "0  [43, 37, 38, 46, 40, 37, 48, 39, 40]  [76, 87, 82, 78, 74, 83, 84, 84, 82]   \n",
       "1  [50, 44, 35, 47, 42, 33, 48, 26, 34]  [84, 82, 75, 82, 69, 81, 84, 79, 86]   \n",
       "2  [45, 40, 39, 47, 52, 36, 33, 28, 33]  [72, 74, 73, 79, 79, 86, 78, 89, 89]   \n",
       "3  [49, 48, 33, 57, 77, 19, 30, 22, 22]  [81, 78, 86, 85, 91, 75, 74, 87, 80]   \n",
       "4  [50, 54, 25, 59, 81, 21, 29, 15, 21]  [79, 73, 82, 74, 92, 83, 78, 86, 87]   \n",
       "\n",
       "   total_0  total_1     pi_m0     pi_m1  \\\n",
       "0      385      389  0.497416  0.502584   \n",
       "1      385      389  0.497416  0.502584   \n",
       "2      385      389  0.497416  0.502584   \n",
       "3      385      389  0.497416  0.502584   \n",
       "4      385      389  0.497416  0.502584   \n",
       "\n",
       "                                               pi_j0  \\\n",
       "0  [0.0857142857143, 0.12987012987, 0.11428571428...   \n",
       "1  [0.0883116883117, 0.0987012987013, 0.103896103...   \n",
       "2  [0.0701298701299, 0.0883116883117, 0.088311688...   \n",
       "3  [0.0831168831169, 0.0779220779221, 0.137662337...   \n",
       "4  [0.0753246753247, 0.0493506493506, 0.148051948...   \n",
       "\n",
       "                                  pi_j1    pi_jm0    pi_jm1     big_i  \\\n",
       "0  [33, 50, 44, 32, 34, 46, 36, 45, 42]  1.878054  0.134422  0.850978   \n",
       "1  [34, 38, 40, 35, 27, 48, 36, 53, 52]  2.260996  1.752292  0.516709   \n",
       "2  [27, 34, 34, 32, 27, 50, 45, 61, 56] -0.393045 -0.155618  1.109129   \n",
       "3  [32, 30, 53, 28, 14, 56, 44, 65, 58]  0.714567  1.807949  2.121618   \n",
       "4  [29, 19, 57, 15, 11, 62, 49, 71, 66]  1.402368 -0.218765 -1.589850   \n",
       "\n",
       "      big_e  \n",
       "0 -1.572580  \n",
       "1  1.652277  \n",
       "2  0.276450  \n",
       "3  0.098567  \n",
       "4 -0.284925  "
      ]
     },
     "execution_count": 7,
     "metadata": {},
     "output_type": "execute_result"
    }
   ],
   "source": [
    "for i in range(0, len(model_out2.index)-1):\n",
    "    model_out2.loc[i,'pi_m0'] =  model_out2.loc[i,'total_0']/(model_out2.loc[i,'total_0'] + model_out2.loc[i,'total_1'])\n",
    "    model_out2.loc[i,'pi_m1'] = model_out2.loc[i,'total_1']/(model_out2.loc[i,'total_0'] + model_out2.loc[i,'total_1'])\n",
    "    total_0 = model_out2.loc[i,'total_0']\n",
    "    location_0 = model_out2.loc[i,'location_0']\n",
    "    model_out2.at[i, 'pi_j0'] = [x / total_0 for x in location_0]\n",
    "    print(sum(model_out2.loc[i, 'pi_j0']))\n",
    "    print(sum(model_out2.loc[i, 'location_0']))\n",
    "    print(sum(model_out2.loc[i, 'location_1']))\n",
    "    \n",
    "model_out2.head()"
   ]
  },
  {
   "cell_type": "markdown",
   "metadata": {},
   "source": [
    "Finally, we can plot the 'happy' series:"
   ]
  },
  {
   "cell_type": "code",
   "execution_count": 43,
   "metadata": {},
   "outputs": [
    {
     "data": {
      "text/plain": [
       "<matplotlib.axes._subplots.AxesSubplot at 0x1ef5cbd0400>"
      ]
     },
     "execution_count": 43,
     "metadata": {},
     "output_type": "execute_result"
    },
    {
     "data": {
      "image/png": "[encoded data removed]",
      "text/plain": [
       "<matplotlib.figure.Figure at 0x1ef5a7eccf8>"
      ]
     },
     "metadata": {},
     "output_type": "display_data"
    }
   ],
   "source": [
    "model_out2.happy.plot()"
   ]
  },
  {
   "cell_type": "code",
   "execution_count": 44,
   "metadata": {},
   "outputs": [
    {
     "data": {
      "text/plain": [
       "<matplotlib.axes._subplots.AxesSubplot at 0x1ef5cbd8470>"
      ]
     },
     "execution_count": 44,
     "metadata": {},
     "output_type": "execute_result"
    },
    {
     "data": {
      "image/png": "[encoded data removed]",
      "text/plain": [
       "<matplotlib.figure.Figure at 0x1ef5cbf4208>"
      ]
     },
     "metadata": {},
     "output_type": "display_data"
    }
   ],
   "source": [
    "model_out2.happy.plot()"
   ]
  },
  {
   "cell_type": "markdown",
   "metadata": {},
   "source": [
    "For testing purposes, here is a table giving each agent's x and y values at each step."
   ]
  },
  {
   "cell_type": "code",
   "execution_count": 69,
   "metadata": {},
   "outputs": [],
   "source": [
    "x_positions = model2.datacollector.get_model_vars_dataframe()"
   ]
  },
  {
   "cell_type": "code",
   "execution_count": 70,
   "metadata": {},
   "outputs": [
    {
     "data": {
      "text/html": [
       "<div>\n",
       "<style scoped>\n",
       "    .dataframe tbody tr th:only-of-type {\n",
       "        vertical-align: middle;\n",
       "    }\n",
       "\n",
       "    .dataframe tbody tr th {\n",
       "        vertical-align: top;\n",
       "    }\n",
       "\n",
       "    .dataframe thead th {\n",
       "        text-align: right;\n",
       "    }\n",
       "</style>\n",
       "<table border=\"1\" class=\"dataframe\">\n",
       "  <thead>\n",
       "    <tr style=\"text-align: right;\">\n",
       "      <th></th>\n",
       "      <th>happy</th>\n",
       "    </tr>\n",
       "  </thead>\n",
       "  <tbody>\n",
       "    <tr>\n",
       "      <th>0</th>\n",
       "      <td>207</td>\n",
       "    </tr>\n",
       "    <tr>\n",
       "      <th>1</th>\n",
       "      <td>309</td>\n",
       "    </tr>\n",
       "    <tr>\n",
       "      <th>2</th>\n",
       "      <td>394</td>\n",
       "    </tr>\n",
       "    <tr>\n",
       "      <th>3</th>\n",
       "      <td>458</td>\n",
       "    </tr>\n",
       "    <tr>\n",
       "      <th>4</th>\n",
       "      <td>503</td>\n",
       "    </tr>\n",
       "  </tbody>\n",
       "</table>\n",
       "</div>"
      ],
      "text/plain": [
       "   happy\n",
       "0    207\n",
       "1    309\n",
       "2    394\n",
       "3    458\n",
       "4    503"
      ]
     },
     "execution_count": 70,
     "metadata": {},
     "output_type": "execute_result"
    }
   ],
   "source": [
    "x_positions.head()"
   ]
  },
  {
   "cell_type": "markdown",
   "metadata": {},
   "source": [
    "# Effect of Homophily on segregation\n",
    "\n",
    "Now, we can do a parameter sweep to see how segregation changes with homophily.\n",
    "\n",
    "First, we create a function which takes a model instance and returns what fraction of agents are segregated -- that is, have no neighbors of the opposite type."
   ]
  },
  {
   "cell_type": "code",
   "execution_count": 11,
   "metadata": {},
   "outputs": [],
   "source": [
    "from mesa.batchrunner import BatchRunner"
   ]
  },
  {
   "cell_type": "code",
   "execution_count": 12,
   "metadata": {},
   "outputs": [],
   "source": [
    "def get_segregation(model):\n",
    "    '''\n",
    "    Find the % of agents that only have neighbors of their same type.\n",
    "    '''\n",
    "    segregated_agents = 0\n",
    "    for agent in model.schedule.agents:\n",
    "        segregated = True\n",
    "        for neighbor in model.grid.neighbor_iter(agent.pos):\n",
    "            if neighbor.type != agent.type:\n",
    "                segregated = False\n",
    "                break\n",
    "        if segregated:\n",
    "            segregated_agents += 1\n",
    "    return segregated_agents / model.schedule.get_agent_count()"
   ]
  },
  {
   "cell_type": "markdown",
   "metadata": {},
   "source": [
    "Now, we set up the batch run, with a dictionary of fixed and changing parameters. Let's hold everything fixed except for Homophily."
   ]
  },
  {
   "cell_type": "code",
   "execution_count": 13,
   "metadata": {},
   "outputs": [],
   "source": [
    "fixed_params = {\"height\": 33, \"width\": 33, \"density\": 0.8, \"minority_pc\": 0.5, \"homophily\": 5} \n",
    "variable_parms = {\"homophily\": 7}"
   ]
  },
  {
   "cell_type": "code",
   "execution_count": 14,
   "metadata": {},
   "outputs": [],
   "source": [
    "model_reporters = {\"Segregated_Agents\": get_segregation}"
   ]
  },
  {
   "cell_type": "code",
   "execution_count": 15,
   "metadata": {},
   "outputs": [],
   "source": [
    "param_sweep = BatchRunner(SchellingModel, \n",
    "                          variable_parameters=variable_params, fixed_parameters=fixed_params,\n",
    "                          iterations=10, \n",
    "                          max_steps=200,\n",
    "                          model_reporters=model_reporters)\n",
    "\n",
    "param_sweep2 = BatchRunner(SchellingModel_vote,\n",
    "                          variable_parameters=variable_parms, fixed_parameters=fixed_params,\n",
    "                          iterations=10, \n",
    "                          max_steps=200,\n",
    "                          model_reporters=model_reporters)"
   ]
  },
  {
   "cell_type": "code",
   "execution_count": 16,
   "metadata": {},
   "outputs": [
    {
     "name": "stderr",
     "output_type": "stream",
     "text": [
      "80it [00:26,  3.00it/s]\n",
      "80it [00:23,  3.45it/s]\n"
     ]
    }
   ],
   "source": [
    "param_sweep.run_all()\n",
    "param_sweep2.run_all()"
   ]
  },
  {
   "cell_type": "code",
   "execution_count": 17,
   "metadata": {},
   "outputs": [
    {
     "name": "stdout",
     "output_type": "stream",
     "text": [
      "    homophily  Run  Segregated_Agents\n",
      "0           1    0           0.011655\n",
      "1           1    1           0.011655\n",
      "2           1    2           0.011655\n",
      "3           1    3           0.011655\n",
      "4           1    4           0.011655\n",
      "5           1    5           0.011655\n",
      "6           1    6           0.011655\n",
      "7           1    7           0.011655\n",
      "8           1    8           0.011655\n",
      "9           1    9           0.011655\n",
      "10          2   10           0.085847\n",
      "11          2   11           0.085847\n",
      "12          2   12           0.085847\n",
      "13          2   13           0.085847\n",
      "14          2   14           0.085847\n",
      "15          2   15           0.085847\n",
      "16          2   16           0.085847\n",
      "17          2   17           0.085847\n",
      "18          2   18           0.085847\n",
      "19          2   19           0.085847\n",
      "20          3   20           0.399321\n",
      "21          3   21           0.399321\n",
      "22          3   22           0.399321\n",
      "23          3   23           0.399321\n",
      "24          3   24           0.399321\n",
      "25          3   25           0.399321\n",
      "26          3   26           0.399321\n",
      "27          3   27           0.399321\n",
      "28          3   28           0.399321\n",
      "29          3   29           0.399321\n",
      "..        ...  ...                ...\n",
      "50          6   50           0.673988\n",
      "51          6   51           0.673988\n",
      "52          6   52           0.673988\n",
      "53          6   53           0.673988\n",
      "54          6   54           0.673988\n",
      "55          6   55           0.673988\n",
      "56          6   56           0.673988\n",
      "57          6   57           0.673988\n",
      "58          6   58           0.673988\n",
      "59          6   59           0.673988\n",
      "60          7   60           0.035632\n",
      "61          7   61           0.035632\n",
      "62          7   62           0.035632\n",
      "63          7   63           0.035632\n",
      "64          7   64           0.035632\n",
      "65          7   65           0.035632\n",
      "66          7   66           0.035632\n",
      "67          7   67           0.035632\n",
      "68          7   68           0.035632\n",
      "69          7   69           0.035632\n",
      "70          8   70           0.023529\n",
      "71          8   71           0.023529\n",
      "72          8   72           0.023529\n",
      "73          8   73           0.023529\n",
      "74          8   74           0.023529\n",
      "75          8   75           0.023529\n",
      "76          8   76           0.023529\n",
      "77          8   77           0.023529\n",
      "78          8   78           0.023529\n",
      "79          8   79           0.023529\n",
      "\n",
      "[80 rows x 3 columns]\n"
     ]
    }
   ],
   "source": [
    "df = param_sweep.get_model_vars_dataframe()\n",
    "df2 = param_sweep2.get_model_vars_dataframe()\n",
    "\n",
    "print(df2)"
   ]
  },
  {
   "cell_type": "code",
   "execution_count": 18,
   "metadata": {},
   "outputs": [
    {
     "ename": "TypeError",
     "evalue": "scatter() missing 2 required positional arguments: 'x' and 'y'",
     "output_type": "error",
     "traceback": [
      "\u001b[1;31m---------------------------------------------------------------------------\u001b[0m",
      "\u001b[1;31mTypeError\u001b[0m                                 Traceback (most recent call last)",
      "\u001b[1;32m<ipython-input-18-a12d44af305b>\u001b[0m in \u001b[0;36m<module>\u001b[1;34m()\u001b[0m\n\u001b[0;32m      2\u001b[0m \u001b[0mplt\u001b[0m\u001b[1;33m.\u001b[0m\u001b[0mgrid\u001b[0m\u001b[1;33m(\u001b[0m\u001b[1;32mTrue\u001b[0m\u001b[1;33m)\u001b[0m\u001b[1;33m\u001b[0m\u001b[0m\n\u001b[0;32m      3\u001b[0m \u001b[1;33m\u001b[0m\u001b[0m\n\u001b[1;32m----> 4\u001b[1;33m \u001b[0mplt\u001b[0m\u001b[1;33m.\u001b[0m\u001b[0mscatter\u001b[0m\u001b[1;33m(\u001b[0m\u001b[1;33m)\u001b[0m\u001b[1;33m\u001b[0m\u001b[0m\n\u001b[0m",
      "\u001b[1;31mTypeError\u001b[0m: scatter() missing 2 required positional arguments: 'x' and 'y'"
     ]
    },
    {
     "data": {
      "image/png": "[encoded data removed]",
      "text/plain": [
       "<matplotlib.figure.Figure at 0x1ef5dc81c50>"
      ]
     },
     "metadata": {},
     "output_type": "display_data"
    }
   ],
   "source": [
    "plt.scatter(df2.homophily, df2.Segregated_Agents)\n",
    "plt.grid(True)\n",
    "\n",
    "plt.scatter()"
   ]
  },
  {
   "cell_type": "markdown",
   "metadata": {},
   "source": [
    "# Notation\n",
    "\n",
    "$J$ - no. of locations  \n",
    "$j$ - location identifier  \n",
    "$m$ - group identifier  \n",
    "$M$ - no. of groups  \n",
    "$t_{j}$ - no. of people in location i  \n",
    "$T$ - total number of people  \n",
    "$\\pi_{m}$ - proportion of group m  \n",
    "$\\pi_j$ - proportion of people that belong to some group in location j  \n",
    "$\\pi_{jm}$ - proportion of group m in location i  \n",
    "$I = \\sum_{m = 1}^{M} \\pi_m (1 - \\pi_m)$ - interaction index  \n",
    "$E = \\sum_{m = 1}^{M} \\pi_m ln(\\frac{1}{\\pi_m})$ - Entropy index  \n",
    "\n",
    "References for formulas:  \n",
    "\"R&F '02\" - Reardon, S. F. and Firebaugh, G. (2002), Measures of Multigroup Segregation. Sociological Methodology, 32: 33–67. doi:10.1111/1467-9531.00110.  \n",
    "\"Census\" - https://www.census.gov/hhes/www/housing/resseg/pdf/app_b.pdf"
   ]
  },
  {
   "cell_type": "markdown",
   "metadata": {},
   "source": [
    "# 1) Dissimilarity Index (multi-group) (R&F '02)\n",
    "\n",
    "Formula:\n",
    "\n",
    "$\\frac{1}{2} \\sum_{m = 1}^{M} \\sum_{j = 1}^{J} \\frac{t_{j}}{TI} | \\pi_{jm} - \\pi_{m} |$\n",
    "\n",
    "Measures whether individuals tend to live in similar neighborhoods compared to the overall population in the area. Low values correspond to low segregation and vice versa."
   ]
  },
  {
   "cell_type": "markdown",
   "metadata": {},
   "source": [
    "# 2) Information theory (multi-group) (R&F '02)\n",
    "\n",
    "Formula:\n",
    "\n",
    "$\\sum_{m = 1}^{M} \\sum_{j = 1}^{J} \\frac{t_{j}}{TE} \\pi_{jm} ln \\frac{\\pi_{jm}}{\\pi_{m}}$\n",
    "\n",
    "Measures whether each region is different from one another. When value is low all regions are similarly distributed, when the value is high, regions have distinct distributions."
   ]
  },
  {
   "cell_type": "markdown",
   "metadata": {},
   "source": [
    "# 3) Isolation Index (Census)\n",
    "\n",
    "Formula for each group m:\n",
    "\n",
    "$\\sum_{j = 1}^{J} \\pi_j \\pi_{jm}$\n",
    "\n",
    "Measures the extent to which you are exposed to your own group"
   ]
  },
  {
   "cell_type": "markdown",
   "metadata": {},
   "source": [
    "# 4) Squared coefficient of variation (multi-group) (R&F '02)\n",
    "\n",
    "Formula:  \n",
    "$\\sum_{m = 1}^{M} \\sum_{j = 1}^{J} \\frac{t_{j}}{T} \\frac{(\\pi_{jm} - \\pi_{m})^{2}}{(M-1)\\pi_{m}}$"
   ]
  },
  {
   "cell_type": "markdown",
   "metadata": {},
   "source": [
    "# 5) Relative diversity (multi-group) (R&F '02)\n",
    "\n",
    "Formula:  \n",
    "$\\sum_{m = 1}^{M} \\sum_{j = 1}^{J} \\frac{t_{j}}{TI} (\\pi_{jm} - \\pi_{m})^{2}$"
   ]
  },
  {
   "cell_type": "markdown",
   "metadata": {},
   "source": [
    "# Other measures (not based on literature)"
   ]
  },
  {
   "cell_type": "code",
   "execution_count": null,
   "metadata": {},
   "outputs": [],
   "source": []
  }
 ],
 "metadata": {
  "kernelspec": {
   "display_name": "Python 3",
   "language": "python",
   "name": "python3"
  },
  "language_info": {
   "codemirror_mode": {
    "name": "ipython",
    "version": 3
   },
   "file_extension": ".py",
   "mimetype": "text/x-python",
   "name": "python",
   "nbconvert_exporter": "python",
   "pygments_lexer": "ipython3",
   "version": "3.6.3"
  },
  "widgets": {
   "state": {},
   "version": "1.1.2"
  }
 },
 "nbformat": 4,
 "nbformat_minor": 1
}
